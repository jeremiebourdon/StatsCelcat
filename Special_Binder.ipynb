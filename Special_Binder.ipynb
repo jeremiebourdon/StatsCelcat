{
 "cells": [
  {
   "cell_type": "code",
   "execution_count": 1,
   "metadata": {},
   "outputs": [
    {
     "name": "stdout",
     "output_type": "stream",
     "text": [
      "Chargement des fichiers\n",
      "gunzip: can't stat: savedR.txt.gz (savedR.txt.gz.gz): No such file or directory\r\n"
     ]
    }
   ],
   "source": [
    "from ipywidgets import widgets\n",
    "from ipywidgets import interact\n",
    "import json\n",
    "\n",
    "# récupération\n",
    "print(\"Chargement des fichiers\")\n",
    "!gunzip savedR.txt.gz\n",
    "with open('savedR.txt') as json_file:\n",
    "    resume = json.load(json_file)\n",
    "    "
   ]
  },
  {
   "cell_type": "code",
   "execution_count": 2,
   "metadata": {},
   "outputs": [],
   "source": [
    "\n",
    "\n",
    "\n",
    "def AfficheInformations(s):\n",
    "    print(\"Module \"+s)\n",
    "    res=resume.get(s)\n",
    "    print(\"----- Bilan (en heure présentiel) ------\")\n",
    "    print(\"Total h CM : \",res.get(\"TotalCM\"))\n",
    "    print(\"Total h TD : \",res.get(\"TotalTD\"))\n",
    "    print(\"Total h CTDi : \",res.get(\"TotalCTDI\"))\n",
    "    print(\"Total h TP : \",res.get(\"TotalTP\"))\n",
    "    print(\"Total h CC : \",res.get(\"TotalCC\"))\n",
    "    print(\"----- Detail par type/Groupe  ------\")\n",
    "    for t in [\"CM\",\"TD\",\"CTDI\",\"TP\",\"CC\"]:\n",
    "        if res.get(t):\n",
    "            print(\" - \",t,\" - \")\n",
    "            for g in res.get(t):\n",
    "                print(\"  \",g,\" : \",res.get(t).get(g),\"h\")\n",
    "            print(\"----------\")\n",
    "    print(\"---------------------\")\n",
    "    #table = pd.DataFrame([\"\\n\".join(Matieres.get(s)), \"\\n\".join(Groupes.get(s))], index=['Matières','Groupes'])\n",
    "    #return table\n",
    "    \n",
    "def Informations():\n",
    "    listemodules = list(set([s for s in resume]))\n",
    "    listemodules.sort()\n",
    "    t=widgets.Dropdown(\n",
    "    options=listemodules,\n",
    "    value=listemodules[0],\n",
    "    description=\"Module : \",\n",
    "    disabled=False\n",
    "    )\n",
    "    interact(AfficheInformations,s=t)\n",
    "\n"
   ]
  },
  {
   "cell_type": "code",
   "execution_count": 3,
   "metadata": {
    "scrolled": true
   },
   "outputs": [
    {
     "data": {
      "application/vnd.jupyter.widget-view+json": {
       "model_id": "7769549eb5fa4d809a28e0604044ad29",
       "version_major": 2,
       "version_minor": 0
      },
      "text/plain": [
       "interactive(children=(Dropdown(description='Module : ', options=(' CAO Hyperfréquence (X3EE052)', ' Cartes éle…"
      ]
     },
     "metadata": {},
     "output_type": "display_data"
    }
   ],
   "source": [
    "Informations()"
   ]
  }
 ],
 "metadata": {
  "kernelspec": {
   "display_name": "Python 3",
   "language": "python",
   "name": "python3"
  },
  "language_info": {
   "codemirror_mode": {
    "name": "ipython",
    "version": 3
   },
   "file_extension": ".py",
   "mimetype": "text/x-python",
   "name": "python",
   "nbconvert_exporter": "python",
   "pygments_lexer": "ipython3",
   "version": "3.7.3"
  }
 },
 "nbformat": 4,
 "nbformat_minor": 2
}
